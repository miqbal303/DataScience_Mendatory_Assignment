{
 "cells": [
  {
   "cell_type": "markdown",
   "id": "5bc349db",
   "metadata": {},
   "source": [
    "**Q-10. A factory produces light bulbs, and the probability of a bulb being defective is 0.05.\n",
    "The factory produces a large batch of 500 light bulbs.\n",
    "a. What is the probability that exactly 20 bulbs are defective?\n",
    "b. What is the probability that at least 10 bulbs are defective?\n",
    "c. What is the probability that at max 15 bulbs are defective?\n",
    "d. On average, how many defective bulbs would you expect in a batch of 500?\n",
    "\n",
    "**Ans**\n",
    "\n"
   ]
  },
  {
   "cell_type": "code",
   "execution_count": 1,
   "id": "700bada4",
   "metadata": {},
   "outputs": [
    {
     "name": "stdout",
     "output_type": "stream",
     "text": [
      "Probability of exactly 20 defective bulbs: 0.051616192536639335\n",
      "Probability of at least 10 defective bulbs: 0.9998316463653528\n",
      "Probability of at most 15 defective bulbs: 0.019858377163006223\n",
      "Expected number of defective bulbs: 25.0\n"
     ]
    }
   ],
   "source": [
    "from scipy.special import comb\n",
    "\n",
    "def calculate_probability_exactly(n, k, p):\n",
    "    return comb(n, k) * (p ** k) * ((1 - p) ** (n - k))\n",
    "\n",
    "def calculate_probability_at_least(n, k, p):\n",
    "    probability = 0\n",
    "    for i in range(k, n+1):\n",
    "        probability += calculate_probability_exactly(n, i, p)\n",
    "    return probability\n",
    "\n",
    "def calculate_probability_at_most(n, k, p):\n",
    "    probability = 0\n",
    "    for i in range(k+1):\n",
    "        probability += calculate_probability_exactly(n, i, p)\n",
    "    return probability\n",
    "\n",
    "def calculate_expected_value(n, p):\n",
    "    return n * p\n",
    "\n",
    "# Parameters\n",
    "total_bulbs = 500\n",
    "defective_probability = 0.05\n",
    "\n",
    "# Calculate probabilities\n",
    "prob_20_defective = calculate_probability_exactly(total_bulbs, 20, defective_probability)\n",
    "prob_at_least_10_defective = calculate_probability_at_least(total_bulbs, 10, defective_probability)\n",
    "prob_at_most_15_defective = calculate_probability_at_most(total_bulbs, 15, defective_probability)\n",
    "\n",
    "# Calculate expected value\n",
    "expected_defective_bulbs = calculate_expected_value(total_bulbs, defective_probability)\n",
    "\n",
    "# Print results\n",
    "print(\"Probability of exactly 20 defective bulbs:\", prob_20_defective)\n",
    "print(\"Probability of at least 10 defective bulbs:\", prob_at_least_10_defective)\n",
    "print(\"Probability of at most 15 defective bulbs:\", prob_at_most_15_defective)\n",
    "print(\"Expected number of defective bulbs:\", expected_defective_bulbs)\n"
   ]
  },
  {
   "cell_type": "code",
   "execution_count": null,
   "id": "52457ed6",
   "metadata": {},
   "outputs": [],
   "source": []
  }
 ],
 "metadata": {
  "kernelspec": {
   "display_name": "Python 3 (ipykernel)",
   "language": "python",
   "name": "python3"
  },
  "language_info": {
   "codemirror_mode": {
    "name": "ipython",
    "version": 3
   },
   "file_extension": ".py",
   "mimetype": "text/x-python",
   "name": "python",
   "nbconvert_exporter": "python",
   "pygments_lexer": "ipython3",
   "version": "3.10.9"
  }
 },
 "nbformat": 4,
 "nbformat_minor": 5
}
