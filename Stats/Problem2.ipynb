{
 "cells": [
  {
   "cell_type": "markdown",
   "metadata": {},
   "source": [
    "**Q-2**. Consider a dataset containing the heights (in centimeters) of 1000 individuals. The\n",
    "mean height is 170 cm with a standard deviation of 10 cm. The dataset is approximately\n",
    "normally distributed, and its skewness is approximately zero. Based on this information,\n",
    "answer the following questions:\n",
    "a. What percentage of individuals in the dataset have heights between 160 cm\n",
    "and 180 cm?\n",
    "b. If we randomly select 100 individuals from the dataset, what is the probability\n",
    "that their average height is greater than 175 cm?\n",
    "c. Assuming the dataset follows a normal distribution, what is the z-score\n",
    "corresponding to a height of 185 cm?\n",
    "d. We know that 5% of the dataset has heights below a certain value. What is\n",
    "the approximate height corresponding to this threshold?\n",
    "e. Calculate the coefficient of variation (CV) for the dataset.\n",
    "f. Calculate the skewness of the dataset and interpret the result.\n",
    "\n",
    "**Ans**"
   ]
  },
  {
   "cell_type": "code",
   "execution_count": 1,
   "metadata": {},
   "outputs": [
    {
     "name": "stdout",
     "output_type": "stream",
     "text": [
      "a. Percentage of individuals with heights between 160 cm and 180 cm: 68.27%\n",
      "b. Probability that the average height of 100 individuals is greater than 175 cm: 0.0000\n",
      "c. Z-score corresponding to a height of 185 cm: 1.50\n",
      "d. Approximate height corresponding to the threshold where 5% of the dataset falls below: 153.55 cm\n",
      "e. Coefficient of variation (CV) for the dataset: 5.88%\n",
      "f. Skewness of the dataset: 0\n"
     ]
    }
   ],
   "source": [
    "import scipy.stats as stats\n",
    "\n",
    "# Mean and standard deviation\n",
    "mean = 170\n",
    "std_dev = 10\n",
    "\n",
    "# a. Percentage of individuals with heights between 160 cm and 180 cm\n",
    "lower_height = 160\n",
    "upper_height = 180\n",
    "\n",
    "# Calculate Z-scores\n",
    "z_lower = (lower_height - mean) / std_dev\n",
    "z_upper = (upper_height - mean) / std_dev\n",
    "\n",
    "# Calculate percentage using cumulative distribution function (CDF)\n",
    "percentage = stats.norm.cdf(z_upper) - stats.norm.cdf(z_lower)\n",
    "percentage *= 100\n",
    "\n",
    "print(f\"a. Percentage of individuals with heights between 160 cm and 180 cm: {percentage:.2f}%\")\n",
    "\n",
    "# b. Probability that the average height of 100 individuals is greater than 175 cm\n",
    "sample_size = 100\n",
    "sample_mean = mean\n",
    "sample_std_dev = std_dev / (sample_size ** 0.5)\n",
    "\n",
    "z_score = (175 - sample_mean) / sample_std_dev\n",
    "probability = 1 - stats.norm.cdf(z_score)\n",
    "\n",
    "print(f\"b. Probability that the average height of 100 individuals is greater than 175 cm: {probability:.4f}\")\n",
    "\n",
    "# c. Z-score corresponding to a height of 185 cm\n",
    "height = 185\n",
    "z_score = (height - mean) / std_dev\n",
    "\n",
    "print(f\"c. Z-score corresponding to a height of 185 cm: {z_score:.2f}\")\n",
    "\n",
    "# d. Height corresponding to a threshold where 5% of the dataset falls below\n",
    "threshold_percentile = 5\n",
    "threshold = stats.norm.ppf(threshold_percentile / 100, loc=mean, scale=std_dev)\n",
    "\n",
    "print(f\"d. Approximate height corresponding to the threshold where 5% of the dataset falls below: {threshold:.2f} cm\")\n",
    "\n",
    "# e. Coefficient of variation (CV) for the dataset\n",
    "cv = (std_dev / mean) * 100\n",
    "\n",
    "print(f\"e. Coefficient of variation (CV) for the dataset: {cv:.2f}%\")\n",
    "\n",
    "# f. Skewness of the dataset\n",
    "skewness = 0  # Given that skewness is approximately zero\n",
    "\n",
    "print(f\"f. Skewness of the dataset: {skewness}\")\n"
   ]
  }
 ],
 "metadata": {
  "kernelspec": {
   "display_name": "Python 3 (ipykernel)",
   "language": "python",
   "name": "python3"
  },
  "language_info": {
   "codemirror_mode": {
    "name": "ipython",
    "version": 3
   },
   "file_extension": ".py",
   "mimetype": "text/x-python",
   "name": "python",
   "nbconvert_exporter": "python",
   "pygments_lexer": "ipython3",
   "version": "3.10.9"
  }
 },
 "nbformat": 4,
 "nbformat_minor": 2
}
