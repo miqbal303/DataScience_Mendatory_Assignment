{
 "cells": [
  {
   "attachments": {},
   "cell_type": "markdown",
   "metadata": {},
   "source": [
    "**Q-11**. Given the data of a feature contributing to different classes\n",
    "\n",
    "https://drive.google.com/file/d/1mCjtYHiX--mMUjicuaP2gH3k-SnFxt8Y/view?usp\n",
    "=share_\n",
    "\n",
    "a. Check whether the distribution of all the classes are the same or not.\n",
    "b. Check for the equality of variance/\n",
    "c. Which amount LDA and QDA would perform better on this data for\n",
    "classification and why.\n",
    "d. Check the equality of mean for between all the classes.\n",
    "\n",
    "**Ans**"
   ]
  },
  {
   "cell_type": "code",
   "execution_count": null,
   "metadata": {},
   "outputs": [],
   "source": [
    "#a\n",
    "import numpy as np\n",
    "from scipy.stats import f_oneway\n",
    "\n",
    "# Extract blood pressure before and after for each class\n",
    "class_1_before = [130, 142, 120, 135, 148, 122, 137, 130, 142, 128]\n",
    "class_1_after = [120, 135, 118, 127, 140, 118, 129, 124, 137, 125]\n",
    "\n",
    "class_2_before = [135, 129, 140, 132, 145, 124, 128, 136, 143, 127]\n",
    "class_2_after = [123, 131, 135, 130, 125, 121, 124, 122, 124, 139]\n",
    "\n",
    "class_3_before = [142, 128, 136, 140, 132, 145, 124, 128, 136, 143]\n",
    "class_3_after = [139, 123, 131, 135, 130, 125, 121, 124, 122, 124]\n",
    "\n",
    "# Perform one-way ANOVA test\n",
    "_, p_value = f_oneway(class_1_before, class_1_after, class_2_before, class_2_after, class_3_before, class_3_after)\n",
    "\n",
    "# Check if p-value is greater than the significance level (0.05)\n",
    "if p_value > 0.05:\n",
    "    print(\"The distributions of all classes are the same.\")\n",
    "else:\n",
    "    print(\"The distributions of all classes are not the same.\")\n"
   ]
  },
  {
   "cell_type": "code",
   "execution_count": null,
   "metadata": {},
   "outputs": [],
   "source": [
    "#B\n",
    "\n",
    "import numpy as np\n",
    "from scipy.stats import bartlett\n",
    "\n",
    "# Combine all data into a single array\n",
    "all_data = np.array([class_1_before, class_1_after, class_2_before, class_2_after, class_3_before, class_3_after])\n",
    "\n",
    "# Perform Bartlett's test\n",
    "_, p_value = bartlett(*all_data)\n",
    "\n",
    "# Check if p-value is greater than the significance level (0.05)\n",
    "if p_value > 0.05:\n",
    "    print(\"The variances of all classes are equal.\")\n",
    "else:\n",
    "    print(\"The variances of all classes are not equal.\")\n"
   ]
  },
  {
   "attachments": {},
   "cell_type": "markdown",
   "metadata": {},
   "source": [
    "c. Comparing LDA and QDA for classification:\n",
    "Since the data has not been labeled with corresponding class information, we cannot directly apply LDA (Linear Discriminant Analysis) or QDA (Quadratic Discriminant Analysis) on this dataset for classification. These methods require labeled data to train a classification model. Once the data is labeled, you can evaluate the performance of LDA and QDA using techniques such as cross-validation or classification accuracy."
   ]
  },
  {
   "cell_type": "code",
   "execution_count": null,
   "metadata": {},
   "outputs": [],
   "source": [
    "#d\n",
    "import numpy as np\n",
    "from scipy.stats import f_oneway\n",
    "\n",
    "# Perform one-way ANOVA test for each pair of classes\n",
    "_, p_value_1_2 = f_oneway(class_1_before, class_2_before)\n",
    "_, p_value_1_3 = f_oneway(class_1_before, class_3_before)\n",
    "_, p_value_2_3 = f_oneway(class_2_before, class_3_before)\n",
    "\n",
    "# Check if p-values are greater than the significance level (0.05)\n",
    "if p_value_1_2 > 0.05 and p_value_1_3 > 0.05 and p_value_2_3 > 0.05:\n",
    "    print(\"The means are equal between all classes.\")\n",
    "else:\n",
    "    print(\"The means are not equal between all classes.\")\n"
   ]
  },
  {
   "cell_type": "code",
   "execution_count": null,
   "metadata": {},
   "outputs": [],
   "source": []
  },
  {
   "cell_type": "code",
   "execution_count": null,
   "metadata": {},
   "outputs": [],
   "source": []
  }
 ],
 "metadata": {
  "language_info": {
   "name": "python"
  },
  "orig_nbformat": 4
 },
 "nbformat": 4,
 "nbformat_minor": 2
}
