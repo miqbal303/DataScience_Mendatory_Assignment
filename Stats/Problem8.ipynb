{
 "cells": [
  {
   "cell_type": "markdown",
   "id": "a8365866",
   "metadata": {},
   "source": [
    "Q-8. The anxiety levels of 10 participants were measured before and after a new therapy.\n",
    "The scores are not normally distributed. Use the Wilcoxon signed-rank test to test whether\n",
    "the therapy had a significant effect on anxiety levels. The data is given below: Participant\n",
    "Before therapy After therapy Difference\n",
    "\n",
    "\n",
    "data = {\"Participant\":[1,2,3,4,5,6,7,8,9,10],\n",
    "        \"Before_therapy\":[10,8,12,15,6,9,11,7,14,10],\n",
    "        \"After_therapy\": [7,6,10,12,5,8,9,6,12,8],\n",
    "        \"Difference\":[-3,-2,-2,-3,-1,-1,-2,-1,-2,-2]}"
   ]
  },
  {
   "cell_type": "code",
   "execution_count": 3,
   "id": "9e22feac",
   "metadata": {},
   "outputs": [
    {
     "name": "stdout",
     "output_type": "stream",
     "text": [
      "Test Statistic: 0.0\n",
      "P-value: 0.001953125\n"
     ]
    }
   ],
   "source": [
    "import scipy.stats as stats\n",
    "\n",
    "data = {\"Participant\":[1,2,3,4,5,6,7,8,9,10],\n",
    "        \"Before_therapy\":[10,8,12,15,6,9,11,7,14,10],\n",
    "        \"After_therapy\": [7,6,10,12,5,8,9,6,12,8],\n",
    "        \"Difference\":[-3,-2,-2,-3,-1,-1,-2,-1,-2,-2]}\n",
    "\n",
    "# Extract the difference scores\n",
    "differences = data[\"Difference\"]\n",
    "\n",
    "# Perform the Wilcoxon signed-rank test\n",
    "result = stats.wilcoxon(differences)\n",
    "\n",
    "# Print the test statistic and p-value\n",
    "print(\"Test Statistic:\", result.statistic)\n",
    "print(\"P-value:\", result.pvalue)\n"
   ]
  },
  {
   "cell_type": "code",
   "execution_count": null,
   "id": "77c7b87c",
   "metadata": {},
   "outputs": [],
   "source": []
  }
 ],
 "metadata": {
  "kernelspec": {
   "display_name": "Python 3 (ipykernel)",
   "language": "python",
   "name": "python3"
  },
  "language_info": {
   "codemirror_mode": {
    "name": "ipython",
    "version": 3
   },
   "file_extension": ".py",
   "mimetype": "text/x-python",
   "name": "python",
   "nbconvert_exporter": "python",
   "pygments_lexer": "ipython3",
   "version": "3.10.9"
  }
 },
 "nbformat": 4,
 "nbformat_minor": 5
}
