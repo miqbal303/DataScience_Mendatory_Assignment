{
 "cells": [
  {
   "attachments": {},
   "cell_type": "markdown",
   "metadata": {},
   "source": [
    "**Q-6**. A pharmaceutical company is developing a drug that is supposed to reduce blood\n",
    "pressure. They conduct a clinical trial with 100 patients and record their blood\n",
    "pressure before and after taking the drug. The company wants to know if the change\n",
    "in blood pressure follows a normal distribution.\n",
    "\n",
    "https://drive.google.com/file/d/1mCjtYHiX--mMUjicuaP2gH3k-SnFxt8Y/view?usp=share_\n",
    "\n",
    "**Ans**"
   ]
  },
  {
   "cell_type": "code",
   "execution_count": null,
   "metadata": {},
   "outputs": [],
   "source": [
    "import numpy as np\n",
    "from scipy import stats\n",
    "\n",
    "# Change in blood pressure data\n",
    "blood_pressure_before = [130, 142, 120, 135, 148, 122, 137, 130, 142, 128, 135, 140, 132, 145, 124, 128, 136, 143, 127, 139,\n",
    "                         135, 131, 127, 130, 142, 128, 136, 140, 132, 145, 124, 128, 136, 143, 127, 139, 135, 131, 127,\n",
    "                         130, 142, 128, 136, 140, 132, 145, 124, 128, 136, 143, 127, 139, 135, 131, 127, 130, 142, 128,\n",
    "                         136, 140, 132, 145, 124, 128, 136, 143, 127, 139, 135, 131, 127, 130, 142, 128, 136, 140, 132,\n",
    "                         145, 124, 128, 136, 143, 127, 139, 135, 131, 127, 130, 142, 128, 136, 140, 132, 145, 124, 128,\n",
    "                         136, 143, 127, 139, 135, 131, 127]\n",
    "\n",
    "blood_pressure_after = [120, 135, 118, 127, 140, 118, 129, 124, 137, 125, 129, 132, 125, 136, 118, 122, 130, 139, 123,\n",
    "                        132, 131, 126, 120, 123, 139, 122, 129, 136, 127, 140, 119, 121, 129, 137, 122, 135, 129, 124,\n",
    "                        119, 124, 139, 123, 131, 135, 130, 125, 121, 124, 122, 124, 139, 123, 131, 135, 130, 125, 121,\n",
    "                        124, 122, 124, 139, 123, 131, 135, 130, 125, 121, 124, 122, 124, 139, 123, 131, 135, 130, 125,\n",
    "                        121, 124, 122, 124, 139, 123, 131, 135, 130, 125, 121, 124, 122, 124, 139, 123, 131, 135, 130,\n",
    "                        125, 121, 124, 122, 124, 139, 123, 131, 135, 130]\n",
    "\n",
    "# Perform Shapiro-Wilk test\n",
    "_, p_value_before = stats.shapiro(blood_pressure_before)\n",
    "_, p_value_after = stats.shapiro(blood_pressure_after)\n",
    "\n",
    "# Set significance level\n",
    "alpha = 0.05\n",
    "\n",
    "# Check if the p-value is less than the significance level\n",
    "if p_value_before > alpha and p_value_after > alpha:\n",
    "    print(\"The change in blood pressure follows a normal distribution.\")\n",
    "else:\n",
    "    print(\"The change in blood pressure does not follow a normal distribution.\")\n"
   ]
  }
 ],
 "metadata": {
  "language_info": {
   "name": "python"
  },
  "orig_nbformat": 4
 },
 "nbformat": 4,
 "nbformat_minor": 2
}
