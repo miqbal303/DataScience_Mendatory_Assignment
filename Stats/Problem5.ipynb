{
 "cells": [
  {
   "cell_type": "markdown",
   "id": "ee11a73c",
   "metadata": {},
   "source": [
    "Q-5. A certain city has two taxi companies: Company A has 80% of the taxis and\n",
    "Company B has 20% of the taxis. Company A's taxis have a 95% success rate for picking\n",
    "up passengers on time, while Company B's taxis have a 90% success rate. If a randomly\n",
    "selected taxi is late, what is the probability that it belongs to Company A?"
   ]
  },
  {
   "cell_type": "code",
   "execution_count": 1,
   "id": "14523800",
   "metadata": {},
   "outputs": [
    {
     "name": "stdout",
     "output_type": "stream",
     "text": [
      "The probability that a randomly selected taxi is from Company A given that it is late: 0.6667\n"
     ]
    }
   ],
   "source": [
    "# Probability of selecting a taxi from Company A\n",
    "P_A = 0.8\n",
    "\n",
    "# Probability of selecting a taxi from Company B\n",
    "P_B = 0.2\n",
    "\n",
    "# Probability that a taxi from Company A is late\n",
    "P_L_A = 1 - 0.95\n",
    "\n",
    "# Probability that a taxi from Company B is late\n",
    "P_L_B = 1 - 0.90\n",
    "\n",
    "# Probability of a randomly selected taxi being late\n",
    "P_L = P_L_A * P_A + P_L_B * P_B\n",
    "\n",
    "# Conditional probability that a randomly selected taxi is from Company A given that it is late\n",
    "P_A_given_L = (P_L_A * P_A) / P_L\n",
    "\n",
    "print(f\"The probability that a randomly selected taxi is from Company A given that it is late: {P_A_given_L:.4f}\")\n"
   ]
  }
 ],
 "metadata": {
  "kernelspec": {
   "display_name": "Python 3 (ipykernel)",
   "language": "python",
   "name": "python3"
  },
  "language_info": {
   "codemirror_mode": {
    "name": "ipython",
    "version": 3
   },
   "file_extension": ".py",
   "mimetype": "text/x-python",
   "name": "python",
   "nbconvert_exporter": "python",
   "pygments_lexer": "ipython3",
   "version": "3.10.9"
  }
 },
 "nbformat": 4,
 "nbformat_minor": 5
}
