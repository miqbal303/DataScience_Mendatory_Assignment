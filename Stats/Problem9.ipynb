{
 "cells": [
  {
   "cell_type": "markdown",
   "id": "865775e2",
   "metadata": {},
   "source": [
    "Q-9. Given the score of students in multiple exams\n",
    "\n",
    "Name = ['Karan','Deepa','Karthik','Chandan',Jeeva]\n",
    "Exam1 = [85,70,90,75,95]\n",
    "Exam2 = [90,80,85,70,92]\n",
    "Final_Exam = [92,85,88,75,96]\n",
    "\n",
    "\n",
    "Test the hypothesis that the mean scores of all the students are the same. If not, name the\n",
    "student with the highest score."
   ]
  },
  {
   "cell_type": "code",
   "execution_count": 1,
   "id": "d6a71804",
   "metadata": {},
   "outputs": [
    {
     "name": "stdout",
     "output_type": "stream",
     "text": [
      "Test Statistic: 0.3236947791164659\n",
      "P-value: 0.7295954253321559\n"
     ]
    }
   ],
   "source": [
    "import scipy.stats as stats\n",
    "\n",
    "# Define the data\n",
    "Name = ['Karan', 'Deepa', 'Karthik', 'Chandan', 'Jeeva']\n",
    "Exam1 = [85, 70, 90, 75, 95]\n",
    "Exam2 = [90, 80, 85, 70, 92]\n",
    "Final_Exam = [92, 85, 88, 75, 96]\n",
    "\n",
    "# Perform one-way ANOVA test\n",
    "result = stats.f_oneway(Exam1, Exam2, Final_Exam)\n",
    "\n",
    "# Print the test statistic and p-value\n",
    "print(\"Test Statistic:\", result.statistic)\n",
    "print(\"P-value:\", result.pvalue)\n"
   ]
  },
  {
   "cell_type": "markdown",
   "id": "611fa6cc",
   "metadata": {},
   "source": [
    "P-Value is greater than statistical value.\n",
    "Hence we fail to reject the null hypothesis and there is not enough evidence to suggest a significant difference in the mean scores of all the students."
   ]
  },
  {
   "cell_type": "code",
   "execution_count": 2,
   "id": "d300603a",
   "metadata": {},
   "outputs": [
    {
     "name": "stdout",
     "output_type": "stream",
     "text": [
      "Student with the highest score: Jeeva\n"
     ]
    }
   ],
   "source": [
    "max_score = max(max(Exam1), max(Exam2), max(Final_Exam))\n",
    "max_student_index = Final_Exam.index(max_score)\n",
    "max_student = Name[max_student_index]\n",
    "\n",
    "print(\"Student with the highest score:\", max_student)\n"
   ]
  },
  {
   "cell_type": "code",
   "execution_count": null,
   "id": "a519a851",
   "metadata": {},
   "outputs": [],
   "source": []
  }
 ],
 "metadata": {
  "kernelspec": {
   "display_name": "Python 3 (ipykernel)",
   "language": "python",
   "name": "python3"
  },
  "language_info": {
   "codemirror_mode": {
    "name": "ipython",
    "version": 3
   },
   "file_extension": ".py",
   "mimetype": "text/x-python",
   "name": "python",
   "nbconvert_exporter": "python",
   "pygments_lexer": "ipython3",
   "version": "3.10.9"
  }
 },
 "nbformat": 4,
 "nbformat_minor": 5
}
