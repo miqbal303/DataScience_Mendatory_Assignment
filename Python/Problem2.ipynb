{
 "cells": [
  {
   "attachments": {},
   "cell_type": "markdown",
   "metadata": {},
   "source": [
    "**Q2**:-\n",
    "Consider a string to be valid if all characters of the string appear the same number of times. It is also valid if\n",
    "he can remove just one character at the index in the string, and the remaining characters will occur the same\n",
    "number of times. Given a string, determine if it is valid. If so, return YES , otherwise return NO .\n",
    "\n",
    "\n",
    "Note - You have to write at least 2 additional test cases in which your program will run successfully and provide\n",
    "an explanation for the same.\n",
    "\n",
    "Example input 1 - s = “abc”. This is a valid string because frequencies are { “a”: 1, “b”: 1, “c”: 1 }\n",
    "Example output 1- YES\n",
    "\n",
    "Example input 2 - s “abcc”. This string is not valid as we can remove only 1 occurrence of “c”. That leaves\n",
    "character frequencies of { “a”: 1, “b”: 1 , “c”: 2 }\n",
    "\n",
    "Example output 2 - NO\n",
    "\n",
    "**Ans**"
   ]
  },
  {
   "cell_type": "code",
   "execution_count": 3,
   "metadata": {},
   "outputs": [
    {
     "name": "stdout",
     "output_type": "stream",
     "text": [
      "abc is valid string:  YES\n",
      "abcc is valid string:  YES\n",
      "abccc is valid string:  NO\n",
      "abbc is valid string:  YES\n"
     ]
    }
   ],
   "source": [
    "def is_valid_string(s):\n",
    "    \"\"\"\n",
    "    Determines if a string is valid.\n",
    "  \n",
    "    A string is valid if all characters of the string appear the same number of times.\n",
    "    It is also valid if he can remove just one character at the index in the string,\n",
    "    and the remaining characters will occur the same number of times.\n",
    "  \n",
    "    Args:\n",
    "      s: The string to check.\n",
    "  \n",
    "    Returns:\n",
    "      True if the string is valid, False otherwise.\n",
    "    \"\"\"\n",
    "\n",
    "\n",
    "    # Count the frequency of each character\n",
    "    char_freq = {}\n",
    "    for char in s:\n",
    "        char_freq[char] = char_freq.get(char, 0) + 1\n",
    "\n",
    "    # Count the frequency of frequencies\n",
    "    freq_freq = {}\n",
    "    for freq in char_freq.values():\n",
    "        freq_freq[freq] = freq_freq.get(freq, 0) + 1\n",
    "\n",
    "    # If all characters have the same frequency, it's valid\n",
    "    if len(freq_freq) == 1:\n",
    "        return \"YES\"\n",
    "\n",
    "    # If there are exactly two different frequencies and one of them has a count of 1, it's valid\n",
    "    if len(freq_freq) == 2 and (freq_freq.get(1, 0) == 1 or 1 in freq_freq.values() and abs(list(freq_freq.keys())[0] - list(freq_freq.keys())[1]) == 1):\n",
    "        return \"YES\"\n",
    "\n",
    "    # Otherwise, it's not valid\n",
    "    return \"NO\"\n",
    "\n",
    "a = 'abc'\n",
    "b = 'abcc'\n",
    "c = 'abccc'\n",
    "d = 'abbc'\n",
    "print(\"abc is valid string: \" , is_valid_string(a))\n",
    "print(\"abcc is valid string: \" , is_valid_string(b))\n",
    "print(\"abccc is valid string: \" , is_valid_string(c))\n",
    "print(\"abbc is valid string: \" , is_valid_string(d))\n"
   ]
  }
 ],
 "metadata": {
  "kernelspec": {
   "display_name": "Python 3",
   "language": "python",
   "name": "python3"
  },
  "language_info": {
   "codemirror_mode": {
    "name": "ipython",
    "version": 3
   },
   "file_extension": ".py",
   "mimetype": "text/x-python",
   "name": "python",
   "nbconvert_exporter": "python",
   "pygments_lexer": "ipython3",
   "version": "3.9.0"
  },
  "orig_nbformat": 4
 },
 "nbformat": 4,
 "nbformat_minor": 2
}
