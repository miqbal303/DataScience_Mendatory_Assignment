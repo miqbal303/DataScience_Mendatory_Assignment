{
 "cells": [
  {
   "attachments": {},
   "cell_type": "markdown",
   "metadata": {},
   "source": [
    "**Question 1**: -\n",
    "Write a program that takes a string as input, and counts the frequency of each word in the string, there might\n",
    "be repeated characters in the string. Your task is to find the highest frequency and returns the length of the\n",
    "highest-frequency word.\n",
    "Note - You have to write at least 2 additional test cases in which your program will run successfully and provide\n",
    "an explanation for the same.\n",
    "Example input - string = “write write write all the number from from from 1 to 100”\n",
    "Example output - 5\n",
    "Explanation - From the given string we can note that the most frequent words are “write” and “from” and\n",
    "the maximum value of both the values is “write” and its corresponding length is 5\n",
    "\n",
    "**Ans**"
   ]
  },
  {
   "cell_type": "code",
   "execution_count": 1,
   "metadata": {},
   "outputs": [
    {
     "name": "stdout",
     "output_type": "stream",
     "text": [
      "Word: write\n",
      "Length: 5\n",
      "Count: 3\n"
     ]
    }
   ],
   "source": [
    "def find_highest_frequency_word_length(input_string):\n",
    "    \"\"\"\n",
    "    Finds the highest frequency word in a string.\n",
    "  \n",
    "    Args:\n",
    "      string: The string to search.\n",
    "  \n",
    "    Returns:\n",
    "      The length of the highest frequency word.\n",
    "    \"\"\"\n",
    "\n",
    "    # Split the input string into words\n",
    "    words = input_string.split()\n",
    "\n",
    "    # Create a dictionary to store word frequencies\n",
    "    word_frequencies = {}\n",
    "\n",
    "    # Count the frequency of each word\n",
    "    for word in words:\n",
    "        word_frequencies[word] = word_frequencies.get(word, 0) + 1\n",
    "\n",
    "    # Find the highest frequency\n",
    "    max_frequency = max(word_frequencies.values())\n",
    "\n",
    "    # Find the length of the word with the highest frequency\n",
    "    highest_frequency_word = \"\"\n",
    "    highest_frequency_word_length = 0\n",
    "    highest_frequency_word_count = 0\n",
    "    for word, frequency in word_frequencies.items():\n",
    "        if frequency == max_frequency:\n",
    "            word_length = len(word)\n",
    "            if word_length > highest_frequency_word_length:\n",
    "                highest_frequency_word_length = word_length\n",
    "                highest_frequency_word = word\n",
    "                highest_frequency_word_count = frequency\n",
    "\n",
    "    return highest_frequency_word, highest_frequency_word_length, highest_frequency_word_count\n",
    "\n",
    "\n",
    "# Example usage:\n",
    "input_string = \"write write write all the number from from from 1 to 100\"\n",
    "result_word, result_length, result_count = find_highest_frequency_word_length(input_string)\n",
    "print(\"Word:\", result_word)\n",
    "print(\"Length:\", result_length)\n",
    "print(\"Count:\", result_count)"
   ]
  }
 ],
 "metadata": {
  "kernelspec": {
   "display_name": "Python 3",
   "language": "python",
   "name": "python3"
  },
  "language_info": {
   "codemirror_mode": {
    "name": "ipython",
    "version": 3
   },
   "file_extension": ".py",
   "mimetype": "text/x-python",
   "name": "python",
   "nbconvert_exporter": "python",
   "pygments_lexer": "ipython3",
   "version": "3.9.0"
  },
  "orig_nbformat": 4
 },
 "nbformat": 4,
 "nbformat_minor": 2
}
