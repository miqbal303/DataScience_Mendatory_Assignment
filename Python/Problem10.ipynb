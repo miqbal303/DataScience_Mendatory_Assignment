{
 "cells": [
  {
   "attachments": {},
   "cell_type": "markdown",
   "metadata": {},
   "source": [
    "**Question 10** -\n",
    "Write a program to count the number of verbs, nouns, pronouns, and adjectives in a given particular phrase or\n",
    "paragraph, and return their respective count as a dictionary.\n",
    "Note -\n",
    "1. Write code comments wherever required for code\n",
    "2. You have to write at least 2 additional test cases in which your program will run successfully and provide an explanation for the same.\n",
    "\n",
    "**Ans**"
   ]
  },
  {
   "cell_type": "code",
   "execution_count": 2,
   "metadata": {},
   "outputs": [
    {
     "name": "stdout",
     "output_type": "stream",
     "text": [
      "{'verb': 3, 'noun': 3, 'pronoun': 1, 'adjective': 2}\n"
     ]
    }
   ],
   "source": [
    "import nltk\n",
    "from nltk.tokenize import word_tokenize\n",
    "from nltk.tag import pos_tag\n",
    "\n",
    "def count_pos_tags(text):\n",
    "    # Tokenize the text into words\n",
    "    tokens = word_tokenize(text)\n",
    "\n",
    "    # Perform part-of-speech tagging\n",
    "    tagged_tokens = pos_tag(tokens)\n",
    "\n",
    "    # Initialize counts\n",
    "    counts = {\n",
    "        'verb': 0,\n",
    "        'noun': 0,\n",
    "        'pronoun': 0,\n",
    "        'adjective': 0\n",
    "    }\n",
    "\n",
    "    # Count the number of each POS tag\n",
    "    for word, tag in tagged_tokens:\n",
    "        if tag.startswith('VB'):  # Verb\n",
    "            counts['verb'] += 1\n",
    "        elif tag.startswith('NN'):  # Noun\n",
    "            counts['noun'] += 1\n",
    "        elif tag.startswith('PRP'):  # Pronoun\n",
    "            counts['pronoun'] += 1\n",
    "        elif tag.startswith('JJ'):  # Adjective\n",
    "            counts['adjective'] += 1\n",
    "\n",
    "    return counts\n",
    "\n",
    "# Test the function\n",
    "text = \"The cat is sitting on the mat. It is a fluffy white cat.\"\n",
    "result = count_pos_tags(text)\n",
    "print(result)\n"
   ]
  },
  {
   "cell_type": "code",
   "execution_count": 5,
   "metadata": {},
   "outputs": [
    {
     "name": "stdout",
     "output_type": "stream",
     "text": [
      "{'verb': 1, 'noun': 3, 'pronoun': 0, 'adjective': 2}\n"
     ]
    },
    {
     "ename": "AssertionError",
     "evalue": "",
     "output_type": "error",
     "traceback": [
      "\u001b[1;31m---------------------------------------------------------------------------\u001b[0m",
      "\u001b[1;31mAssertionError\u001b[0m                            Traceback (most recent call last)",
      "Cell \u001b[1;32mIn[5], line 52\u001b[0m\n\u001b[0;32m     49\u001b[0m actual_counts1 \u001b[39m=\u001b[39m count_parts_of_speech(text1)\n\u001b[0;32m     50\u001b[0m \u001b[39mprint\u001b[39m(actual_counts1)\n\u001b[1;32m---> 52\u001b[0m \u001b[39massert\u001b[39;00m actual_counts1 \u001b[39m==\u001b[39m expected_counts1\n\u001b[0;32m     54\u001b[0m \u001b[39m# Check that the function works for the expected test cases.\u001b[39;00m\n\u001b[0;32m     55\u001b[0m \u001b[39massert\u001b[39;00m count_parts_of_speech(text1) \u001b[39m==\u001b[39m expected_counts1\n",
      "\u001b[1;31mAssertionError\u001b[0m: "
     ]
    }
   ],
   "source": [
    "import nltk\n",
    "\n",
    "def count_parts_of_speech(text):\n",
    "    \"\"\"Counts the number of verbs, nouns, pronouns, and adjectives in a given text.\n",
    "\n",
    "    Args:\n",
    "        text: The text to be analyzed.\n",
    "\n",
    "    Returns:\n",
    "        A dictionary containing the number of each part of speech.\n",
    "    \"\"\"\n",
    "\n",
    "    # Convert the text to a list of tokens.\n",
    "    tokens = nltk.word_tokenize(text)\n",
    "\n",
    "    # Create a list of parts of speech for each token.\n",
    "    parts_of_speech = nltk.pos_tag(tokens)\n",
    "\n",
    "    # Create a dictionary to store the counts of each part of speech.\n",
    "    counts = {\n",
    "        'verb': 0,\n",
    "        'noun': 0,\n",
    "        'pronoun': 0,\n",
    "        'adjective': 0\n",
    "    }\n",
    "\n",
    "    # Count the occurrences of each part of speech.\n",
    "    for word, pos in parts_of_speech:\n",
    "        if pos.startswith('VB'):  # Verb\n",
    "            counts['verb'] += 1\n",
    "        elif pos.startswith('NN'):  # Noun\n",
    "            counts['noun'] += 1\n",
    "        elif pos.startswith('PRP'):  # Pronoun\n",
    "            counts['pronoun'] += 1\n",
    "        elif pos.startswith('JJ'):  # Adjective\n",
    "            counts['adjective'] += 1\n",
    "\n",
    "    # Return the dictionary of counts.\n",
    "    return counts\n",
    "\n",
    "# Test cases\n",
    "\n",
    "text1 = \"The quick brown fox jumps over the lazy dog.\"\n",
    "expected_counts1 = {\"verb\": 1, \"noun\": 4, \"pronoun\": 0, \"adjective\": 1}\n",
    "\n",
    "text2 = \"I am a large language model from Google AI.\"\n",
    "expected_counts2 = {\"verb\": 1, \"noun\": 3, \"pronoun\": 1, \"adjective\": 1}\n",
    "\n",
    "actual_counts1 = count_parts_of_speech(text1)\n",
    "print(actual_counts1)\n",
    "\n",
    "assert actual_counts1 == expected_counts1\n",
    "\n",
    "# Check that the function works for the expected test cases.\n",
    "assert count_parts_of_speech(text1) == expected_counts1\n",
    "assert count_parts_of_speech(text2) == expected_counts2\n",
    "\n",
    "# Additional test cases\n",
    "\n",
    "text3 = \"The big, red ball rolled down the hill.\"\n",
    "expected_counts3 = {\"verb\": 1, \"noun\": 3, \"pronoun\": 0, \"adjective\": 2}\n",
    "\n",
    "text4 = \"She quickly ran away from the scary monster.\"\n",
    "expected_counts4 = {\"verb\": 2, \"noun\": 2, \"pronoun\": 1, \"adjective\": 1}\n",
    "\n",
    "# Check that the function works for the additional test cases.\n",
    "assert count_parts_of_speech(text3) == expected_counts3\n",
    "assert count_parts_of_speech(text4) == expected_counts4\n"
   ]
  }
 ],
 "metadata": {
  "kernelspec": {
   "display_name": "Python 3",
   "language": "python",
   "name": "python3"
  },
  "language_info": {
   "codemirror_mode": {
    "name": "ipython",
    "version": 3
   },
   "file_extension": ".py",
   "mimetype": "text/x-python",
   "name": "python",
   "nbconvert_exporter": "python",
   "pygments_lexer": "ipython3",
   "version": "3.9.0"
  },
  "orig_nbformat": 4
 },
 "nbformat": 4,
 "nbformat_minor": 2
}
